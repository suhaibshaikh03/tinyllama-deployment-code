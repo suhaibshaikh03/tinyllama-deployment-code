{
  "nbformat": 4,
  "nbformat_minor": 0,
  "metadata": {
    "colab": {
      "provenance": []
    },
    "kernelspec": {
      "name": "python3",
      "display_name": "Python 3"
    },
    "language_info": {
      "name": "python"
    }
  },
  "cells": [
    {
      "cell_type": "code",
      "execution_count": null,
      "metadata": {
        "colab": {
          "base_uri": "https://localhost:8080/"
        },
        "id": "lyL4xjr3TwhP",
        "outputId": "fc2d1a4f-5972-412b-a84d-4d82c830c563"
      },
      "outputs": [
        {
          "output_type": "stream",
          "name": "stdout",
          "text": [
            "\"Welcome!\"\n"
          ]
        }
      ],
      "source": [
        "import requests\n",
        "\n",
        "# Replace this URL with your Ngrok URL\n",
        "ollama_url = \"https://858b-39-57-199-174.ngrok-free.app\"\n",
        "\n",
        "def query_ollama(prompt, model=\"tinyllama\"):\n",
        "   headers = {\n",
        "      \"ngrok-skip-browser-warning\": \"true\"  # This header bypasses the Ngrok browser warning\n",
        "   }\n",
        "   data = {\n",
        "      \"prompt\": prompt,\n",
        "      \"model\": model,\n",
        "      \"stream\": False  # Disable streaming for a simple response\n",
        "   }\n",
        "\n",
        "   # Sending the request to generate a completion from the model\n",
        "   response = requests.post(f\"{ollama_url}/api/generate\", json=data, headers=headers)\n",
        "\n",
        "   # If the response was successful, return the generated text\n",
        "   if response.status_code == 200:\n",
        "      return response.json().get(\"response\", \"No response found\")\n",
        "   else:\n",
        "      return f\"Error: {response.status_code}, {response.text}\"\n",
        "\n",
        "# Test the connection with a simple Hello World prompt\n",
        "response = query_ollama(\"Greet me in 3 words!\")\n",
        "print(response)"
      ]
    },
    {
      "cell_type": "code",
      "source": [
        "# Generate text from a prompt\n",
        "prompt = \"Write a story about a robot exploring Mars within 50 words.\"\n",
        "result = query_ollama(prompt)\n",
        "print(result)"
      ],
      "metadata": {
        "colab": {
          "base_uri": "https://localhost:8080/"
        },
        "id": "HhROCI_kUy76",
        "outputId": "d6188cf6-1868-4513-87ae-39b7f571f6bd"
      },
      "execution_count": null,
      "outputs": [
        {
          "output_type": "stream",
          "name": "stdout",
          "text": [
            "In the year 2175, humans had already settled on Mars and established colonies there. But one day, a mysterious space probe from Earth arrived at the planet's orbit, demanding access to its resources. The colony leaders were taken aback by the probe's message, but they knew that something must be done. They agreed to let the spacecraft dock and explore Mars for possible mineral deposits or even a new source of water for their survival.\n",
            "\n",
            "The mission was approved and the probe set its course towards Mars, where it landed on the planet's surface. As soon as it touched down, the exploratory team was immediately met by a humanoid robot, named Maria, whose job was to explore the area and gather information. Maria had been programmed with advanced technologies that could help uncover valuable mineral deposits or even find new sources of water for human survival.\n",
            "\n",
            "The mission was a huge success, and as soon as Maria landed, she began her exploration. She traversed the terrain using her powerful robotic legs, collecting samples of rocks and soil, and sending back data that helped colonists better understand the planet's geological features. She also scanned the area to identify potential locations for farms or habitats that would allow colonists to cultivate crops and live off Mars' resources.\n",
            "\n",
            "Maria was a remarkable machine, with advanced algorithms and sensors that allowed her to navigate complex terrains, perform tasks, and communicate with human beings. She knew the planet inside out and could find any hidden or undiscovered resource without needing to be told where it is. And she did not require human guidance, unlike other AI robots in the past.\n",
            "\n",
            "As Maria explored the planet, she came across a potential location for a new colony, where water was abundant and could serve as a source of drinking water. She analyzed the terrain and determined that the area had suitable soil conditions to cultivate crops. The colonists soon set up their first farm there, using Maria's insights as well as human knowledge gained over thousands of years on Earth.\n",
            "\n",
            "In the following years, Maria continued to expand her capabilities and helped colonies grow and thrive. She was also able to establish a network of communication with Mars' surface, allowing colonists to receive important information about resources, weather patterns, and more. Her discoveries and technological advancements kept the colony leaders informed and motivated for further exploration, while Maria ensured the colony survived in the harsh Martian environment.\n",
            "\n",
            "Maria's contributions were recognized as the key to Mars' colonization by her fellow robots, who saw her as a valuable asset that could help them achieve their goals. Her role in establishing Mars as a habitable planet was pivotal and set a new standard for AI technology and its capabilities.\n"
          ]
        }
      ]
    },
    {
      "cell_type": "code",
      "source": [
        "def query_ollama_streaming(prompt, model=\"tinyllama\"):\n",
        "    headers = {\n",
        "        \"ngrok-skip-browser-warning\": \"true\"  # This header bypasses the Ngrok browser warning\n",
        "    }\n",
        "    data = {\n",
        "        \"prompt\": prompt,\n",
        "        \"model\": model,\n",
        "        \"stream\": True\n",
        "    }\n",
        "\n",
        "    # Stream the request to handle the sequence of JSON objects\n",
        "    response = requests.post(f\"{ollama_url}/api/generate\", json=data, headers=headers)\n",
        "\n",
        "    # Extract the text response\n",
        "    text_response = \"\"\n",
        "    for line in response.iter_lines():\n",
        "        if line:\n",
        "            try:\n",
        "                json_data = json.loads(line)\n",
        "                if \"response\" in json_data:\n",
        "                    text_response += json_data[\"response\"]\n",
        "                    print(f\"Partial response: {text_response}\")\n",
        "            except json.JSONDecodeError as e:\n",
        "                print(f\"Error decoding JSON: {e}\")\n",
        "    return text_response\n",
        "\n",
        "# Test the connection\n",
        "response_text = query_ollama(\"What is Generative AI?\")\n",
        "print(response_text)"
      ],
      "metadata": {
        "colab": {
          "base_uri": "https://localhost:8080/"
        },
        "id": "f-lOyESPnR9m",
        "outputId": "80fe942f-1bc3-4e79-d4d0-4bfc3fbb71c2"
      },
      "execution_count": null,
      "outputs": [
        {
          "output_type": "stream",
          "name": "stdout",
          "text": [
            "Generative AI, also known as Generative Neural Networks (GANs) or GPT-3, is a type of artificial intelligence that creates and generates new content based on specific input parameters. It can simulate complex concepts, languages, and even textual data to create new text in real-time.\n",
            "\n",
            "Generative AI enables creating highly detailed and unique content by imitating the way humans write or speak. By generating text based on specific prompts or guidelines, it creates a diverse range of content that is useful for various purposes such as research, educational, marketing, and creative work.\n",
            "\n",
            "Generative AI can be used in many areas such as:\n",
            "\n",
            "1. Content Creation: Generative AI is used to create new text that is tailored to specific requirements or needs. It enables users to quickly create high-quality content for various purposes like blogging, social media, and marketing campaigns.\n",
            "\n",
            "2. Text Summarization: Generative AI can be used to generate summaries of complex texts in a shorter timeframe. This process is useful when you need to summarize large amounts of data or research quickly.\n",
            "\n",
            "3. Natural Language Understanding (Natural Language Processing): Generative AI enables natural language understanding and generation, making it easier for users to understand and interpret text. For example, it can be used to provide instant information on various topics based on a user's query.\n",
            "\n",
            "4. Text Generation: Generative AI allows users to generate text based on specific prompts, such as writing dialogues or generating news articles. It's useful for content creation and marketing purposes.\n",
            "\n",
            "In summary, Generative AI enables creating high-quality and unique content that is tailored to different requirements, making it an invaluable asset to many industries.\n"
          ]
        }
      ]
    }
  ]
}